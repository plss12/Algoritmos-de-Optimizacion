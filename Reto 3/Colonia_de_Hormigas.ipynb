{
  "cells": [
    {
      "cell_type": "code",
      "execution_count": 1,
      "metadata": {
        "id": "lwwwi-Rr9haG"
      },
      "outputs": [],
      "source": [
        "import tsplib95\n",
        "import random\n",
        "from itertools import product"
      ]
    },
    {
      "cell_type": "code",
      "execution_count": 2,
      "metadata": {
        "id": "NpUqeOgl9yiK"
      },
      "outputs": [],
      "source": [
        "#DATOS DEL PROBLEMA\n",
        "file = \"swiss42.tsp\" \n",
        "problem = tsplib95.load(file)\n",
        "\n",
        "#Nodos\n",
        "Nodos = list(problem.get_nodes())\n",
        "\n",
        "#Devuelve la distancia entre dos nodos\n",
        "def distancia(a,b, problem):\n",
        "  return problem.get_weight(a,b)\n",
        "\n",
        "#Devuelve la distancia total de una trayectoria/solucion(lista de nodos)\n",
        "def distancia_total(solucion, problem):\n",
        "  distancia_total = 0\n",
        "  for i in range(len(solucion)-1):\n",
        "    distancia_total += distancia(solucion[i] ,solucion[i+1] ,  problem)\n",
        "  return distancia_total + distancia(solucion[len(solucion)-1] ,solucion[0], problem)\n"
      ]
    },
    {
      "cell_type": "markdown",
      "metadata": {
        "id": "hil3PCXB9iWf"
      },
      "source": [
        "Algoritmo de colonia de hormigas\n",
        "\n",
        "La función Add_Nodo selecciona al azar un nodo con probabilidad uniforme.\n",
        "Para ser mas eficiente debería seleccionar el próximo nodo siguiendo la probabilidad correspondiente a la ecuación:\n",
        "\n",
        "$p^k_{ij}(t) = \\frac{[\\tau_{ij}(t)]^\\alpha[\\nu_{ij}]^\\beta}{\\sum_{l\\in J^k_i} [\\tau_{il}(t)]^\\alpha[\\nu_{il}]^\\beta}$, si $j \\in J^k_i$\n",
        "\n",
        "$p^k_{ij}(t) = 0$, si $j \\notin J^k_i$"
      ]
    },
    {
      "cell_type": "code",
      "execution_count": 3,
      "metadata": {
        "id": "BzzL8A_w-BeZ"
      },
      "outputs": [],
      "source": [
        "def Add_Nodo(problem, H, T, alpha, beta):\n",
        "  \n",
        "  nodos = list(problem.get_nodes())\n",
        "  # Obtenemos los nodos que no han sido visitados\n",
        "  nodos_no_visitados = [x for x in nodos if x not in H]\n",
        "  nodo_actual = H[-1]\n",
        "  \n",
        "  probabilidades= []\n",
        "  sumatorio = 0\n",
        "\n",
        "  # Para cada nodo no visitado calculamos su probabilidad de ser elegido\n",
        "  # según las feromonas y la inversa de la distancia desde el nodo actual\n",
        "  for nodo in nodos_no_visitados:\n",
        "    t = T[nodo_actual][nodo]\n",
        "    n = 1/distancia(nodo_actual, nodo, problem)\n",
        "\n",
        "    probabilidad = (t**alpha)*(n**beta)\n",
        "    probabilidades.append(probabilidad)\n",
        "    sumatorio += probabilidad\n",
        "\n",
        "  # Normalizamos las probabilidades dividiendo por el sumatorio de todas\n",
        "  probabilidades_normalizadas = [probabilidad/sumatorio for probabilidad in probabilidades]\n",
        "\n",
        "  # Elegimos un nodo de forma aleatoria según las probabilidades calculadas\n",
        "  nodo_elegido = random.choices(nodos_no_visitados, weights=probabilidades_normalizadas)[0]\n",
        "\n",
        "  return nodo_elegido\n",
        "\n",
        "def Incrementa_Feromona(problem, T, H) :\n",
        "  #Incrementa segun la calidad de la solución. Añadir una cantidad inversamente proporcional a la distancia total\n",
        "  for i in range(len(H)-1):\n",
        "    T[H[i]][H[i+1]] += 1000/distancia_total(H, problem)\n",
        "  return T\n",
        "\n",
        "def Evaporar_Feromonas(T):\n",
        "  #Evapora 0.3 el valor de la feromona, sin que baje de 1\n",
        "  #Mejora:Podemos elegir diferentes funciones de evaporación dependiendo de la cantidad actual y de la suma total de feromonas depositadas,...\n",
        "  T = [[ max(T[i][j] - 0.3 , 1) for i in range(len(Nodos)) ] for j in range(len(Nodos))]\n",
        "  return T"
      ]
    },
    {
      "cell_type": "code",
      "execution_count": 4,
      "metadata": {
        "colab": {
          "base_uri": "https://localhost:8080/"
        },
        "id": "8H08lRY7-Emq",
        "outputId": "71c15d2d-a03a-4ee0-a00a-2db946745e15"
      },
      "outputs": [],
      "source": [
        "def hormigas(problem, N, alpha, beta) :\n",
        "  #problem = datos del problema\n",
        "  #N = Número de agentes(hormigas)\n",
        "  #alpha, beta = parámetros de la ecuación para elegir nodo siguiente\n",
        "\n",
        "  #Nodos\n",
        "  Nodos = list(problem.get_nodes())\n",
        "  #Aristas\n",
        "  Aristas = list(problem.get_edges())\n",
        "\n",
        "  #Inicializa las aristas con una cantidad inicial de feromonas:1\n",
        "  #Mejora: inicializar con valores diferentes dependiendo diferentes criterios\n",
        "  T = [[ 1 for _ in range(len(Nodos)) ] for _ in range(len(Nodos))]\n",
        "\n",
        "  #Se generan los agentes(hormigas) que serán estructuras de caminos desde 0\n",
        "  Hormiga = [[0] for _ in range(N)]\n",
        "\n",
        "  #Recorre cada agente construyendo la solución\n",
        "  for h in range(N) :\n",
        "    #Para cada agente se construye un camino\n",
        "    for i in range(len(Nodos)-1) :\n",
        "\n",
        "      #Elige el siguiente nodo\n",
        "      Nuevo_Nodo = Add_Nodo(problem, Hormiga[h], T, alpha, beta)\n",
        "      Hormiga[h].append(Nuevo_Nodo)\n",
        "\n",
        "    #Incrementa feromonas en esa arista\n",
        "    T = Incrementa_Feromona(problem, T, Hormiga[h] )\n",
        "    #print(\"Feromonas(1)\", T)\n",
        "\n",
        "    #Evapora Feromonas\n",
        "    T = Evaporar_Feromonas(T)\n",
        "    #print(\"Feromonas(2)\", T)\n",
        "\n",
        "    #Seleccionamos el mejor agente\n",
        "  mejor_solucion = []\n",
        "  mejor_distancia = 10e100\n",
        "  for h in range(N) :\n",
        "    distancia_actual = distancia_total(Hormiga[h], problem)\n",
        "    if distancia_actual < mejor_distancia:\n",
        "      mejor_solucion = Hormiga[h]\n",
        "      mejor_distancia =distancia_actual\n",
        "\n",
        "  return mejor_solucion, mejor_distancia"
      ]
    },
    {
      "cell_type": "code",
      "execution_count": 6,
      "metadata": {},
      "outputs": [
        {
          "name": "stdout",
          "output_type": "stream",
          "text": [
            "Mejor alpha: 0.5\n",
            "Mejor beta: 1.0\n",
            "La mejor solución es: [0, 6, 1, 27, 2, 26, 18, 39, 9, 25, 11, 12, 5, 19, 13, 17, 37, 14, 7, 30, 29, 8, 22, 38, 21, 33, 20, 34, 24, 40, 23, 41, 10, 3, 4, 28, 32, 31, 36, 35, 16, 15]\n",
            "Con una distancia total de: 2330\n"
          ]
        }
      ],
      "source": [
        "# Probamos diferentes combinaciones de alpha y beta para encontrar la combinación \n",
        "# que mejor solución nos da, proband con valores de 0 a 1 en intervalos de 0.25\n",
        "numeros = [round(i * 0.25,2) for i in range(int(1 / 0.25) + 1)]\n",
        "combinaciones = list(product(numeros, repeat=2))\n",
        "mejor_solucion = []\n",
        "mejor_distancia = 10e100\n",
        "mejor_alpha = -1\n",
        "mejor_beta = -1\n",
        "\n",
        "for combinacion in combinaciones:\n",
        "    solucion, distancia_sol = hormigas(problem, 500, combinacion[0], combinacion[1])\n",
        "    if distancia_sol < mejor_distancia:\n",
        "        mejor_solucion = solucion\n",
        "        mejor_distancia = distancia_sol\n",
        "        mejor_alpha = combinacion[0]\n",
        "        mejor_beta = combinacion[1]\n",
        "\n",
        "print(\"Mejor alpha:\", mejor_alpha)\n",
        "print(\"Mejor beta:\", mejor_beta)\n",
        "\n",
        "# Para la mejor combinación de alpha y beta, ejecutamos el algoritmo con un mayor número de hormigas\n",
        "solucion_final, distancia_final = hormigas(problem, 25000, mejor_alpha, mejor_beta)\n",
        "print(\"La mejor solución es:\", solucion_final)\n",
        "print(\"Con una distancia total de:\", distancia_final)"
      ]
    }
  ],
  "metadata": {
    "colab": {
      "provenance": []
    },
    "kernelspec": {
      "display_name": "Python 3",
      "name": "python3"
    },
    "language_info": {
      "codemirror_mode": {
        "name": "ipython",
        "version": 3
      },
      "file_extension": ".py",
      "mimetype": "text/x-python",
      "name": "python",
      "nbconvert_exporter": "python",
      "pygments_lexer": "ipython3",
      "version": "3.11.6"
    }
  },
  "nbformat": 4,
  "nbformat_minor": 0
}
