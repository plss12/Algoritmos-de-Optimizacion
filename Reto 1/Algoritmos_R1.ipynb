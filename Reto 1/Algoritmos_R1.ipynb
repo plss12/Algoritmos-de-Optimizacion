{
 "cells": [
  {
   "cell_type": "markdown",
   "metadata": {
    "id": "kQn6fbhgtH9I"
   },
   "source": [
    "# Algoritmos de optimización - Reto 1\n",
    "\n",
    "Nombre: Pedro Luis Soto Santos </br>\n",
    "Github: https://github.com/plss12/03MAIR---Algoritmos-de-Optimizacion/blob/main/Reto%201/Algoritmos_R1.ipynb"
   ]
  },
  {
   "cell_type": "code",
   "execution_count": 8,
   "metadata": {},
   "outputs": [],
   "source": [
    "import time\n",
    "import matplotlib.pyplot as plt"
   ]
  },
  {
   "cell_type": "markdown",
   "metadata": {
    "id": "_t62Ge7ZuKnC"
   },
   "source": [
    "## Torres de Hanoi con Divide y vencerás\n",
    "\n",
    "Resuelve el problema de las [Torres de Hanoi](https://es.wikipedia.org/wiki/Torres_de_Han%C3%B3i) para un número arbitrario de fichas utilizando la técnica de divide y vencerás. "
   ]
  },
  {
   "cell_type": "code",
   "execution_count": 9,
   "metadata": {
    "colab": {
     "base_uri": "https://localhost:8080/"
    },
    "id": "i32G0CUQvauE",
    "outputId": "c3398cec-661d-46a5-b9db-0a0ad168f64a"
   },
   "outputs": [],
   "source": [
    "# Torres de Hanoi\n",
    "\n",
    "def torre_hanoi(n, origen, destino, auxiliar, num_movs=0):\n",
    "    if n == 1:\n",
    "        print(f\"Mover disco de {origen} a {destino}\")\n",
    "        return num_movs+1\n",
    "    \n",
    "    else:\n",
    "        num_movs = torre_hanoi(n-1, origen, auxiliar, destino, num_movs)\n",
    "        print(f\"Mover disco de {origen} a {destino}\")\n",
    "        num_movs = torre_hanoi(n-1, auxiliar, destino, origen, num_movs)\n",
    "        \n",
    "    return num_movs+1"
   ]
  },
  {
   "cell_type": "code",
   "execution_count": 10,
   "metadata": {},
   "outputs": [
    {
     "name": "stdout",
     "output_type": "stream",
     "text": [
      "Mover disco de Torre A a Torre C\n",
      "Mover disco de Torre A a Torre B\n",
      "Mover disco de Torre C a Torre B\n",
      "Mover disco de Torre A a Torre C\n",
      "Mover disco de Torre B a Torre A\n",
      "Mover disco de Torre B a Torre C\n",
      "Mover disco de Torre A a Torre C\n",
      "Numero de movimientos para una torre de Hanoi de 3 fichas: 7\n"
     ]
    }
   ],
   "source": [
    "num_fichas = 3\n",
    "num_movs = torre_hanoi(num_fichas, \"Torre A\", \"Torre C\", \"Torre B\")\n",
    "\n",
    "print(f\"Numero de movimientos para una torre de Hanoi de {num_fichas} fichas: {num_movs}\")"
   ]
  },
  {
   "cell_type": "code",
   "execution_count": 11,
   "metadata": {},
   "outputs": [
    {
     "name": "stdout",
     "output_type": "stream",
     "text": [
      "Mover disco de Torre A a Torre C\n",
      "Mover disco de Torre A a Torre B\n",
      "Mover disco de Torre C a Torre B\n",
      "Mover disco de Torre A a Torre C\n",
      "Mover disco de Torre B a Torre A\n",
      "Mover disco de Torre B a Torre C\n",
      "Mover disco de Torre A a Torre C\n",
      "Mover disco de Torre A a Torre B\n",
      "Mover disco de Torre C a Torre B\n",
      "Mover disco de Torre C a Torre A\n",
      "Mover disco de Torre B a Torre A\n",
      "Mover disco de Torre C a Torre B\n",
      "Mover disco de Torre A a Torre C\n",
      "Mover disco de Torre A a Torre B\n",
      "Mover disco de Torre C a Torre B\n",
      "Mover disco de Torre A a Torre C\n",
      "Mover disco de Torre B a Torre A\n",
      "Mover disco de Torre B a Torre C\n",
      "Mover disco de Torre A a Torre C\n",
      "Mover disco de Torre B a Torre A\n",
      "Mover disco de Torre C a Torre B\n",
      "Mover disco de Torre C a Torre A\n",
      "Mover disco de Torre B a Torre A\n",
      "Mover disco de Torre B a Torre C\n",
      "Mover disco de Torre A a Torre C\n",
      "Mover disco de Torre A a Torre B\n",
      "Mover disco de Torre C a Torre B\n",
      "Mover disco de Torre A a Torre C\n",
      "Mover disco de Torre B a Torre A\n",
      "Mover disco de Torre B a Torre C\n",
      "Mover disco de Torre A a Torre C\n",
      "Numero de movimientos para una torre de Hanoi de 5 fichas: 31\n"
     ]
    }
   ],
   "source": [
    "num_fichas = 5\n",
    "num_movs = torre_hanoi(num_fichas, \"Torre A\", \"Torre C\", \"Torre B\")\n",
    "\n",
    "print(f\"Numero de movimientos para una torre de Hanoi de {num_fichas} fichas: {num_movs}\")"
   ]
  },
  {
   "cell_type": "markdown",
   "metadata": {},
   "source": [
    "## Sucesión de Fibonacci\n",
    "\n",
    "Cálcula el n-ésimo término de la [Sucesión de Fibonacci](https://es.wikipedia.org/wiki/Sucesi%C3%B3n_de_Fibonacci) mediante un algoritmo recursivo y otro iterativo. Representa gráficamente cómo crece el tiempo de cómputo en función del número de términos para ambos algoritmos. "
   ]
  },
  {
   "cell_type": "code",
   "execution_count": 12,
   "metadata": {
    "colab": {
     "base_uri": "https://localhost:8080/"
    },
    "id": "74qZZAekiNYR",
    "outputId": "acc17268-7f87-4de4-ae5a-4fc6ce09d385"
   },
   "outputs": [],
   "source": [
    "#Sucesión_de_Fibonacci\n",
    "\n",
    "def fibonacci_iterativo(n):\n",
    "    if n <=1:\n",
    "        return n\n",
    "        \n",
    "    n0, n1 = 0, 1\n",
    "    for _ in range(2, n+1):\n",
    "        n0, n1 = n1, n0+n1\n",
    "        \n",
    "    return n1\n",
    "\n",
    "def fibonacci_recursivo(n):\n",
    "    if n <=1:\n",
    "        return n\n",
    "    \n",
    "    return fibonacci_recursivo(n-1)+fibonacci_recursivo(n-2)\n",
    "\n",
    "def fibonacci_recursivo_memorizado(n, memo={}):\n",
    "    if n <=1:\n",
    "        return n\n",
    "    \n",
    "    if n in memo:\n",
    "        return memo[n]\n",
    "    \n",
    "    memo[n] = fibonacci_recursivo_memorizado(n-1) + fibonacci_recursivo_memorizado(n-2)\n",
    "    return memo[n]"
   ]
  },
  {
   "cell_type": "code",
   "execution_count": 14,
   "metadata": {},
   "outputs": [
    {
     "name": "stdout",
     "output_type": "stream",
     "text": [
      "55\n",
      "55\n",
      "55\n"
     ]
    }
   ],
   "source": [
    "print(fibonacci_iterativo(10))\n",
    "print(fibonacci_recursivo(10))\n",
    "print(fibonacci_recursivo_memorizado(10))"
   ]
  },
  {
   "cell_type": "code",
   "execution_count": 15,
   "metadata": {},
   "outputs": [
    {
     "name": "stdout",
     "output_type": "stream",
     "text": [
      "6765\n",
      "6765\n",
      "6765\n"
     ]
    }
   ],
   "source": [
    "print(fibonacci_iterativo(20))\n",
    "print(fibonacci_recursivo(20))\n",
    "print(fibonacci_recursivo_memorizado(20))"
   ]
  },
  {
   "cell_type": "code",
   "execution_count": 13,
   "metadata": {},
   "outputs": [
    {
     "ename": "KeyboardInterrupt",
     "evalue": "",
     "output_type": "error",
     "traceback": [
      "\u001b[1;31m---------------------------------------------------------------------------\u001b[0m",
      "\u001b[1;31mKeyboardInterrupt\u001b[0m                         Traceback (most recent call last)",
      "Cell \u001b[1;32mIn[13], line 17\u001b[0m\n\u001b[0;32m     15\u001b[0m \u001b[38;5;28;01mfor\u001b[39;00m n \u001b[38;5;129;01min\u001b[39;00m valores_n:\n\u001b[0;32m     16\u001b[0m     inicio \u001b[38;5;241m=\u001b[39m time\u001b[38;5;241m.\u001b[39mtime()\n\u001b[1;32m---> 17\u001b[0m     \u001b[43mfibonacci_recursivo\u001b[49m\u001b[43m(\u001b[49m\u001b[43mn\u001b[49m\u001b[43m)\u001b[49m\n\u001b[0;32m     18\u001b[0m     fin \u001b[38;5;241m=\u001b[39m time\u001b[38;5;241m.\u001b[39mtime()\n\u001b[0;32m     19\u001b[0m     tiempos_recursivo\u001b[38;5;241m.\u001b[39mappend(fin \u001b[38;5;241m-\u001b[39m inicio)\n",
      "Cell \u001b[1;32mIn[12], line 17\u001b[0m, in \u001b[0;36mfibonacci_recursivo\u001b[1;34m(n)\u001b[0m\n\u001b[0;32m     14\u001b[0m \u001b[38;5;28;01mif\u001b[39;00m n \u001b[38;5;241m<\u001b[39m\u001b[38;5;241m=\u001b[39m\u001b[38;5;241m1\u001b[39m:\n\u001b[0;32m     15\u001b[0m     \u001b[38;5;28;01mreturn\u001b[39;00m n\n\u001b[1;32m---> 17\u001b[0m \u001b[38;5;28;01mreturn\u001b[39;00m \u001b[43mfibonacci_recursivo\u001b[49m\u001b[43m(\u001b[49m\u001b[43mn\u001b[49m\u001b[38;5;241;43m-\u001b[39;49m\u001b[38;5;241;43m1\u001b[39;49m\u001b[43m)\u001b[49m\u001b[38;5;241m+\u001b[39mfibonacci_recursivo(n\u001b[38;5;241m-\u001b[39m\u001b[38;5;241m2\u001b[39m)\n",
      "Cell \u001b[1;32mIn[12], line 17\u001b[0m, in \u001b[0;36mfibonacci_recursivo\u001b[1;34m(n)\u001b[0m\n\u001b[0;32m     14\u001b[0m \u001b[38;5;28;01mif\u001b[39;00m n \u001b[38;5;241m<\u001b[39m\u001b[38;5;241m=\u001b[39m\u001b[38;5;241m1\u001b[39m:\n\u001b[0;32m     15\u001b[0m     \u001b[38;5;28;01mreturn\u001b[39;00m n\n\u001b[1;32m---> 17\u001b[0m \u001b[38;5;28;01mreturn\u001b[39;00m fibonacci_recursivo(n\u001b[38;5;241m-\u001b[39m\u001b[38;5;241m1\u001b[39m)\u001b[38;5;241m+\u001b[39m\u001b[43mfibonacci_recursivo\u001b[49m\u001b[43m(\u001b[49m\u001b[43mn\u001b[49m\u001b[38;5;241;43m-\u001b[39;49m\u001b[38;5;241;43m2\u001b[39;49m\u001b[43m)\u001b[49m\n",
      "    \u001b[1;31m[... skipping similar frames: fibonacci_recursivo at line 17 (19 times)]\u001b[0m\n",
      "Cell \u001b[1;32mIn[12], line 17\u001b[0m, in \u001b[0;36mfibonacci_recursivo\u001b[1;34m(n)\u001b[0m\n\u001b[0;32m     14\u001b[0m \u001b[38;5;28;01mif\u001b[39;00m n \u001b[38;5;241m<\u001b[39m\u001b[38;5;241m=\u001b[39m\u001b[38;5;241m1\u001b[39m:\n\u001b[0;32m     15\u001b[0m     \u001b[38;5;28;01mreturn\u001b[39;00m n\n\u001b[1;32m---> 17\u001b[0m \u001b[38;5;28;01mreturn\u001b[39;00m \u001b[43mfibonacci_recursivo\u001b[49m\u001b[43m(\u001b[49m\u001b[43mn\u001b[49m\u001b[38;5;241;43m-\u001b[39;49m\u001b[38;5;241;43m1\u001b[39;49m\u001b[43m)\u001b[49m\u001b[38;5;241m+\u001b[39mfibonacci_recursivo(n\u001b[38;5;241m-\u001b[39m\u001b[38;5;241m2\u001b[39m)\n",
      "Cell \u001b[1;32mIn[12], line 13\u001b[0m, in \u001b[0;36mfibonacci_recursivo\u001b[1;34m(n)\u001b[0m\n\u001b[0;32m      9\u001b[0m         n0, n1 \u001b[38;5;241m=\u001b[39m n1, n0\u001b[38;5;241m+\u001b[39mn1\n\u001b[0;32m     11\u001b[0m     \u001b[38;5;28;01mreturn\u001b[39;00m n1\n\u001b[1;32m---> 13\u001b[0m \u001b[38;5;28;01mdef\u001b[39;00m \u001b[38;5;21mfibonacci_recursivo\u001b[39m(n):\n\u001b[0;32m     14\u001b[0m     \u001b[38;5;28;01mif\u001b[39;00m n \u001b[38;5;241m<\u001b[39m\u001b[38;5;241m=\u001b[39m\u001b[38;5;241m1\u001b[39m:\n\u001b[0;32m     15\u001b[0m         \u001b[38;5;28;01mreturn\u001b[39;00m n\n",
      "\u001b[1;31mKeyboardInterrupt\u001b[0m: "
     ]
    }
   ],
   "source": [
    "valores_n = list(range(1, 40))\n",
    "\n",
    "tiempos_iterativo = []\n",
    "tiempos_recursivo = []\n",
    "tiempos_recursivo_memorizado = []\n",
    "\n",
    "# Tiempos para el algoritmo iterativo\n",
    "for n in valores_n:\n",
    "    inicio = time.time()\n",
    "    fibonacci_iterativo(n)\n",
    "    fin = time.time()\n",
    "    tiempos_iterativo.append(fin - inicio)\n",
    "\n",
    "# Tiempos para el algoritmo recursivo\n",
    "for n in valores_n:\n",
    "    inicio = time.time()\n",
    "    fibonacci_recursivo(n)\n",
    "    fin = time.time()\n",
    "    tiempos_recursivo.append(fin - inicio)\n",
    "\n",
    "# Tiempos para el algoritmo recursivo memorizado\n",
    "for n in valores_n:\n",
    "    inicio = time.time()\n",
    "    fibonacci_recursivo_memorizado(n)\n",
    "    fin = time.time()\n",
    "    tiempos_recursivo_memorizado.append(fin - inicio)\n",
    "\n",
    "plt.figure(figsize=(10, 6))\n",
    "plt.plot(valores_n, tiempos_iterativo, label='Fibonacci Iterativo')\n",
    "plt.plot(valores_n, tiempos_recursivo, label='Fibonacci Recursivo')\n",
    "plt.plot(valores_n, tiempos_recursivo_memorizado, label='Fibonacci Recursivo Memorizado')\n",
    "plt.xlabel('Número de término (n)')\n",
    "plt.ylabel('Tiempo de ejecución (segundos)')\n",
    "plt.title('Tiempo de ejecución de algoritmos Fibonacci')\n",
    "plt.legend()\n",
    "plt.grid(True)\n",
    "plt.show()"
   ]
  },
  {
   "cell_type": "markdown",
   "metadata": {
    "id": "RgT5XJsZ429L"
   },
   "source": [
    "## Devolución de cambio por técnica voraz\n",
    "\n",
    "Resuelve el [Problema del Cambio de Moneda](https://es.wikipedia.org/wiki/Problema_de_cambio_de_monedas) utilizando una técnica voraz."
   ]
  },
  {
   "cell_type": "code",
   "execution_count": 16,
   "metadata": {
    "colab": {
     "base_uri": "https://localhost:8080/"
    },
    "id": "uJtftBLU4-ap",
    "outputId": "b52f7a2c-771b-4c2e-81ab-c4c3ea01318d"
   },
   "outputs": [],
   "source": [
    "# Problema del cambio de moneda\n",
    "\n",
    "def cambio_monedas(cantidad, sistema):\n",
    "    res = [0 for _ in range(len(sistema))]\n",
    "    \n",
    "    for i, valor in enumerate(sistema):\n",
    "        res[i] = cantidad // valor\n",
    "        cantidad %= valor\n",
    "\n",
    "    return res\n",
    "\n",
    "def cambio_monedas(cantidad, sistema):\n",
    "    res = []\n",
    "    sistema.sort(reverse=True)\n",
    "\n",
    "    for moneda in sistema:\n",
    "        while cantidad >= moneda:\n",
    "            res.append(moneda)\n",
    "            cantidad -= moneda\n",
    "            \n",
    "    return res"
   ]
  },
  {
   "cell_type": "code",
   "execution_count": 18,
   "metadata": {},
   "outputs": [
    {
     "name": "stdout",
     "output_type": "stream",
     "text": [
      "[50, 20, 5, 2, 2]\n",
      "[50, 50, 20, 20, 5, 2]\n"
     ]
    }
   ],
   "source": [
    "sistema = [50, 20, 10, 5, 2, 1]\n",
    "print(cambio_monedas(79, sistema))\n",
    "print(cambio_monedas(147, sistema))"
   ]
  },
  {
   "cell_type": "markdown",
   "metadata": {
    "id": "g8M9GTvy_Fa3"
   },
   "source": [
    "## N-Reinas por técnica de vuelta atrás\n",
    "Resuelve el [Problema de las N-Reinas](https://es.wikipedia.org/wiki/Problema_de_las_ocho_reinas) en un tablero de dimensión N mediante la técnica de la vuelta atrás (backtraking)."
   ]
  },
  {
   "cell_type": "code",
   "execution_count": 31,
   "metadata": {},
   "outputs": [
    {
     "name": "stdout",
     "output_type": "stream",
     "text": [
      "Número de posibles tableros de tamaño 8x8: 92\n",
      "[0, 4, 7, 5, 2, 6, 1, 3]\n",
      "[0, 5, 7, 2, 6, 3, 1, 4]\n",
      "[0, 6, 3, 5, 7, 1, 4, 2]\n",
      "[0, 6, 4, 7, 1, 3, 5, 2]\n",
      "[1, 3, 5, 7, 2, 0, 6, 4]\n",
      "[1, 4, 6, 0, 2, 7, 5, 3]\n",
      "[1, 4, 6, 3, 0, 7, 5, 2]\n",
      "[1, 5, 0, 6, 3, 7, 2, 4]\n",
      "[1, 5, 7, 2, 0, 3, 6, 4]\n",
      "[1, 6, 2, 5, 7, 4, 0, 3]\n",
      "[1, 6, 4, 7, 0, 3, 5, 2]\n",
      "[1, 7, 5, 0, 2, 4, 6, 3]\n",
      "[2, 0, 6, 4, 7, 1, 3, 5]\n",
      "[2, 4, 1, 7, 0, 6, 3, 5]\n",
      "[2, 4, 1, 7, 5, 3, 6, 0]\n",
      "[2, 4, 6, 0, 3, 1, 7, 5]\n",
      "[2, 4, 7, 3, 0, 6, 1, 5]\n",
      "[2, 5, 1, 4, 7, 0, 6, 3]\n",
      "[2, 5, 1, 6, 0, 3, 7, 4]\n",
      "[2, 5, 1, 6, 4, 0, 7, 3]\n",
      "[2, 5, 3, 0, 7, 4, 6, 1]\n",
      "[2, 5, 3, 1, 7, 4, 6, 0]\n",
      "[2, 5, 7, 0, 3, 6, 4, 1]\n",
      "[2, 5, 7, 0, 4, 6, 1, 3]\n",
      "[2, 5, 7, 1, 3, 0, 6, 4]\n",
      "[2, 6, 1, 7, 4, 0, 3, 5]\n",
      "[2, 6, 1, 7, 5, 3, 0, 4]\n",
      "[2, 7, 3, 6, 0, 5, 1, 4]\n",
      "[3, 0, 4, 7, 1, 6, 2, 5]\n",
      "[3, 0, 4, 7, 5, 2, 6, 1]\n",
      "[3, 1, 4, 7, 5, 0, 2, 6]\n",
      "[3, 1, 6, 2, 5, 7, 0, 4]\n",
      "[3, 1, 6, 2, 5, 7, 4, 0]\n",
      "[3, 1, 6, 4, 0, 7, 5, 2]\n",
      "[3, 1, 7, 4, 6, 0, 2, 5]\n",
      "[3, 1, 7, 5, 0, 2, 4, 6]\n",
      "[3, 5, 0, 4, 1, 7, 2, 6]\n",
      "[3, 5, 7, 1, 6, 0, 2, 4]\n",
      "[3, 5, 7, 2, 0, 6, 4, 1]\n",
      "[3, 6, 0, 7, 4, 1, 5, 2]\n",
      "[3, 6, 2, 7, 1, 4, 0, 5]\n",
      "[3, 6, 4, 1, 5, 0, 2, 7]\n",
      "[3, 6, 4, 2, 0, 5, 7, 1]\n",
      "[3, 7, 0, 2, 5, 1, 6, 4]\n",
      "[3, 7, 0, 4, 6, 1, 5, 2]\n",
      "[3, 7, 4, 2, 0, 6, 1, 5]\n",
      "[4, 0, 3, 5, 7, 1, 6, 2]\n",
      "[4, 0, 7, 3, 1, 6, 2, 5]\n",
      "[4, 0, 7, 5, 2, 6, 1, 3]\n",
      "[4, 1, 3, 5, 7, 2, 0, 6]\n",
      "[4, 1, 3, 6, 2, 7, 5, 0]\n",
      "[4, 1, 5, 0, 6, 3, 7, 2]\n",
      "[4, 1, 7, 0, 3, 6, 2, 5]\n",
      "[4, 2, 0, 5, 7, 1, 3, 6]\n",
      "[4, 2, 0, 6, 1, 7, 5, 3]\n",
      "[4, 2, 7, 3, 6, 0, 5, 1]\n",
      "[4, 6, 0, 2, 7, 5, 3, 1]\n",
      "[4, 6, 0, 3, 1, 7, 5, 2]\n",
      "[4, 6, 1, 3, 7, 0, 2, 5]\n",
      "[4, 6, 1, 5, 2, 0, 3, 7]\n",
      "[4, 6, 1, 5, 2, 0, 7, 3]\n",
      "[4, 6, 3, 0, 2, 7, 5, 1]\n",
      "[4, 7, 3, 0, 2, 5, 1, 6]\n",
      "[4, 7, 3, 0, 6, 1, 5, 2]\n",
      "[5, 0, 4, 1, 7, 2, 6, 3]\n",
      "[5, 1, 6, 0, 2, 4, 7, 3]\n",
      "[5, 1, 6, 0, 3, 7, 4, 2]\n",
      "[5, 2, 0, 6, 4, 7, 1, 3]\n",
      "[5, 2, 0, 7, 3, 1, 6, 4]\n",
      "[5, 2, 0, 7, 4, 1, 3, 6]\n",
      "[5, 2, 4, 6, 0, 3, 1, 7]\n",
      "[5, 2, 4, 7, 0, 3, 1, 6]\n",
      "[5, 2, 6, 1, 3, 7, 0, 4]\n",
      "[5, 2, 6, 1, 7, 4, 0, 3]\n",
      "[5, 2, 6, 3, 0, 7, 1, 4]\n",
      "[5, 3, 0, 4, 7, 1, 6, 2]\n",
      "[5, 3, 1, 7, 4, 6, 0, 2]\n",
      "[5, 3, 6, 0, 2, 4, 1, 7]\n",
      "[5, 3, 6, 0, 7, 1, 4, 2]\n",
      "[5, 7, 1, 3, 0, 6, 4, 2]\n",
      "[6, 0, 2, 7, 5, 3, 1, 4]\n",
      "[6, 1, 3, 0, 7, 4, 2, 5]\n",
      "[6, 1, 5, 2, 0, 3, 7, 4]\n",
      "[6, 2, 0, 5, 7, 4, 1, 3]\n",
      "[6, 2, 7, 1, 4, 0, 5, 3]\n",
      "[6, 3, 1, 4, 7, 0, 2, 5]\n",
      "[6, 3, 1, 7, 5, 0, 2, 4]\n",
      "[6, 4, 2, 0, 5, 7, 1, 3]\n",
      "[7, 1, 3, 0, 6, 4, 2, 5]\n",
      "[7, 1, 4, 2, 0, 6, 3, 5]\n",
      "[7, 2, 0, 5, 1, 4, 6, 3]\n",
      "[7, 3, 0, 2, 5, 1, 6, 4]\n"
     ]
    }
   ],
   "source": [
    "# Problema de las N-Reinas\n",
    "\n",
    "n=8\n",
    "soluciones=[]\n",
    "\n",
    "def n_reinas(posiciones=[-1]*n, fila=0):\n",
    "    # Si todas las reinas están colocadas es una solución\n",
    "    if fila == n:\n",
    "        soluciones.append(posiciones[:])\n",
    "\n",
    "    else:\n",
    "        # Recorremos todas las columnas y las filas anteriores\n",
    "        for col in range(n):\n",
    "            valido = True\n",
    "            \n",
    "            for i in range(fila):\n",
    "                # Comprobamos con la fórmula si la reina de la fila ataca la nueva posición\n",
    "                # i==k o i-j = k-l o i+j = k-l\n",
    "                if posiciones[i] == col or i - posiciones[i] == fila - col or i + posiciones[i] == fila + col:\n",
    "                    valido = False\n",
    "                    break\n",
    "\n",
    "            if valido:\n",
    "                posiciones[fila] = col\n",
    "                n_reinas(posiciones, fila + 1)\n",
    "\n",
    "n_reinas(n, soluciones=[])\n",
    "\n",
    "# Las soluciones vienen representadas por una lista de tamaño n en la que cada posición es \n",
    "# una fila del tablero y el valor es la columna en la que está colocada la reina\n",
    "print(f\"Número de posibles tableros de tamaño {n}x{n}: {len(soluciones)}\")\n",
    "for solucion in soluciones:\n",
    "    print(solucion)"
   ]
  },
  {
   "cell_type": "code",
   "execution_count": 23,
   "metadata": {},
   "outputs": [],
   "source": [
    "# Problema de las N-Reinas\n",
    "\n",
    "def n_reinas(n):\n",
    "    soluciones = []\n",
    "\n",
    "    def sol_reinas(posiciones=[-1]*n, fila=0):\n",
    "        # Si todas las reinas están colocadas es una solución\n",
    "        if fila == n:\n",
    "            soluciones.append(posiciones[:])\n",
    "\n",
    "        else:\n",
    "            # Recorremos todas las columnas y las filas anteriores\n",
    "            for col in range(n):\n",
    "                valido = True\n",
    "                \n",
    "                for i in range(fila):\n",
    "                    # Comprobamos con la fórmula si la reina de la fila ataca la nueva posición\n",
    "                    # i==k o i-j = k-l o i+j = k-l\n",
    "                    if posiciones[i] == col or i - posiciones[i] == fila - col or i + posiciones[i] == fila + col:\n",
    "                        valido = False\n",
    "                        break\n",
    "                # Si no está atacada, la posición es valida\n",
    "                if valido:\n",
    "                    posiciones[fila] = col\n",
    "                    sol_reinas(posiciones, fila + 1)\n",
    "    \n",
    "    sol_reinas()\n",
    "    return soluciones"
   ]
  },
  {
   "cell_type": "code",
   "execution_count": 24,
   "metadata": {},
   "outputs": [
    {
     "name": "stdout",
     "output_type": "stream",
     "text": [
      "Número de posibles tableros de tamaño 6x6: 4\n",
      "[1, 3, 5, 0, 2, 4]\n",
      "[2, 5, 1, 4, 0, 3]\n",
      "[3, 0, 4, 1, 5, 2]\n",
      "[4, 2, 0, 5, 3, 1]\n"
     ]
    }
   ],
   "source": [
    "n = 6\n",
    "soluciones = n_reinas(n)\n",
    "\n",
    "# Las soluciones vienen representadas por una lista de tamaño n en la que cada posición es \n",
    "# una fila del tablero y el valor es la columna en la que está colocada la reina\n",
    "print(f\"Número de posibles tableros de tamaño {n}x{n}: {len(soluciones)}\")\n",
    "for solucion in soluciones:\n",
    "    print(solucion)"
   ]
  },
  {
   "cell_type": "code",
   "execution_count": 25,
   "metadata": {},
   "outputs": [
    {
     "name": "stdout",
     "output_type": "stream",
     "text": [
      "Número de posibles tableros de tamaño 8x8: 92\n",
      "[0, 4, 7, 5, 2, 6, 1, 3]\n",
      "[0, 5, 7, 2, 6, 3, 1, 4]\n",
      "[0, 6, 3, 5, 7, 1, 4, 2]\n",
      "[0, 6, 4, 7, 1, 3, 5, 2]\n",
      "[1, 3, 5, 7, 2, 0, 6, 4]\n",
      "[1, 4, 6, 0, 2, 7, 5, 3]\n",
      "[1, 4, 6, 3, 0, 7, 5, 2]\n",
      "[1, 5, 0, 6, 3, 7, 2, 4]\n",
      "[1, 5, 7, 2, 0, 3, 6, 4]\n",
      "[1, 6, 2, 5, 7, 4, 0, 3]\n",
      "[1, 6, 4, 7, 0, 3, 5, 2]\n",
      "[1, 7, 5, 0, 2, 4, 6, 3]\n",
      "[2, 0, 6, 4, 7, 1, 3, 5]\n",
      "[2, 4, 1, 7, 0, 6, 3, 5]\n",
      "[2, 4, 1, 7, 5, 3, 6, 0]\n",
      "[2, 4, 6, 0, 3, 1, 7, 5]\n",
      "[2, 4, 7, 3, 0, 6, 1, 5]\n",
      "[2, 5, 1, 4, 7, 0, 6, 3]\n",
      "[2, 5, 1, 6, 0, 3, 7, 4]\n",
      "[2, 5, 1, 6, 4, 0, 7, 3]\n",
      "[2, 5, 3, 0, 7, 4, 6, 1]\n",
      "[2, 5, 3, 1, 7, 4, 6, 0]\n",
      "[2, 5, 7, 0, 3, 6, 4, 1]\n",
      "[2, 5, 7, 0, 4, 6, 1, 3]\n",
      "[2, 5, 7, 1, 3, 0, 6, 4]\n",
      "[2, 6, 1, 7, 4, 0, 3, 5]\n",
      "[2, 6, 1, 7, 5, 3, 0, 4]\n",
      "[2, 7, 3, 6, 0, 5, 1, 4]\n",
      "[3, 0, 4, 7, 1, 6, 2, 5]\n",
      "[3, 0, 4, 7, 5, 2, 6, 1]\n",
      "[3, 1, 4, 7, 5, 0, 2, 6]\n",
      "[3, 1, 6, 2, 5, 7, 0, 4]\n",
      "[3, 1, 6, 2, 5, 7, 4, 0]\n",
      "[3, 1, 6, 4, 0, 7, 5, 2]\n",
      "[3, 1, 7, 4, 6, 0, 2, 5]\n",
      "[3, 1, 7, 5, 0, 2, 4, 6]\n",
      "[3, 5, 0, 4, 1, 7, 2, 6]\n",
      "[3, 5, 7, 1, 6, 0, 2, 4]\n",
      "[3, 5, 7, 2, 0, 6, 4, 1]\n",
      "[3, 6, 0, 7, 4, 1, 5, 2]\n",
      "[3, 6, 2, 7, 1, 4, 0, 5]\n",
      "[3, 6, 4, 1, 5, 0, 2, 7]\n",
      "[3, 6, 4, 2, 0, 5, 7, 1]\n",
      "[3, 7, 0, 2, 5, 1, 6, 4]\n",
      "[3, 7, 0, 4, 6, 1, 5, 2]\n",
      "[3, 7, 4, 2, 0, 6, 1, 5]\n",
      "[4, 0, 3, 5, 7, 1, 6, 2]\n",
      "[4, 0, 7, 3, 1, 6, 2, 5]\n",
      "[4, 0, 7, 5, 2, 6, 1, 3]\n",
      "[4, 1, 3, 5, 7, 2, 0, 6]\n",
      "[4, 1, 3, 6, 2, 7, 5, 0]\n",
      "[4, 1, 5, 0, 6, 3, 7, 2]\n",
      "[4, 1, 7, 0, 3, 6, 2, 5]\n",
      "[4, 2, 0, 5, 7, 1, 3, 6]\n",
      "[4, 2, 0, 6, 1, 7, 5, 3]\n",
      "[4, 2, 7, 3, 6, 0, 5, 1]\n",
      "[4, 6, 0, 2, 7, 5, 3, 1]\n",
      "[4, 6, 0, 3, 1, 7, 5, 2]\n",
      "[4, 6, 1, 3, 7, 0, 2, 5]\n",
      "[4, 6, 1, 5, 2, 0, 3, 7]\n",
      "[4, 6, 1, 5, 2, 0, 7, 3]\n",
      "[4, 6, 3, 0, 2, 7, 5, 1]\n",
      "[4, 7, 3, 0, 2, 5, 1, 6]\n",
      "[4, 7, 3, 0, 6, 1, 5, 2]\n",
      "[5, 0, 4, 1, 7, 2, 6, 3]\n",
      "[5, 1, 6, 0, 2, 4, 7, 3]\n",
      "[5, 1, 6, 0, 3, 7, 4, 2]\n",
      "[5, 2, 0, 6, 4, 7, 1, 3]\n",
      "[5, 2, 0, 7, 3, 1, 6, 4]\n",
      "[5, 2, 0, 7, 4, 1, 3, 6]\n",
      "[5, 2, 4, 6, 0, 3, 1, 7]\n",
      "[5, 2, 4, 7, 0, 3, 1, 6]\n",
      "[5, 2, 6, 1, 3, 7, 0, 4]\n",
      "[5, 2, 6, 1, 7, 4, 0, 3]\n",
      "[5, 2, 6, 3, 0, 7, 1, 4]\n",
      "[5, 3, 0, 4, 7, 1, 6, 2]\n",
      "[5, 3, 1, 7, 4, 6, 0, 2]\n",
      "[5, 3, 6, 0, 2, 4, 1, 7]\n",
      "[5, 3, 6, 0, 7, 1, 4, 2]\n",
      "[5, 7, 1, 3, 0, 6, 4, 2]\n",
      "[6, 0, 2, 7, 5, 3, 1, 4]\n",
      "[6, 1, 3, 0, 7, 4, 2, 5]\n",
      "[6, 1, 5, 2, 0, 3, 7, 4]\n",
      "[6, 2, 0, 5, 7, 4, 1, 3]\n",
      "[6, 2, 7, 1, 4, 0, 5, 3]\n",
      "[6, 3, 1, 4, 7, 0, 2, 5]\n",
      "[6, 3, 1, 7, 5, 0, 2, 4]\n",
      "[6, 4, 2, 0, 5, 7, 1, 3]\n",
      "[7, 1, 3, 0, 6, 4, 2, 5]\n",
      "[7, 1, 4, 2, 0, 6, 3, 5]\n",
      "[7, 2, 0, 5, 1, 4, 6, 3]\n",
      "[7, 3, 0, 2, 5, 1, 6, 4]\n"
     ]
    }
   ],
   "source": [
    "n = 8\n",
    "soluciones = n_reinas(n)\n",
    "\n",
    "# Las soluciones vienen representadas por una lista de tamaño n en la que cada posición es \n",
    "# una fila del tablero y el valor es la columna en la que está colocada la reina\n",
    "print(f\"Número de posibles tableros de tamaño {n}x{n}: {len(soluciones)}\")\n",
    "for solucion in soluciones:\n",
    "    print(solucion)"
   ]
  }
 ],
 "metadata": {
  "colab": {
   "provenance": [],
   "toc_visible": true
  },
  "kernelspec": {
   "display_name": "Python 3 (ipykernel)",
   "language": "python",
   "name": "python3"
  },
  "language_info": {
   "codemirror_mode": {
    "name": "ipython",
    "version": 3
   },
   "file_extension": ".py",
   "mimetype": "text/x-python",
   "name": "python",
   "nbconvert_exporter": "python",
   "pygments_lexer": "ipython3",
   "version": "3.11.6"
  }
 },
 "nbformat": 4,
 "nbformat_minor": 1
}
