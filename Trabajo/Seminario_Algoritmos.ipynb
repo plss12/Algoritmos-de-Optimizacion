{
  "cells": [
    {
      "cell_type": "markdown",
      "metadata": {
        "id": "hVbXYX-RfPWh"
      },
      "source": [
        "# Algoritmos de optimización - Seminario<br>\n",
        "Nombre y Apellidos:  Pedro Luis Soto Santos <br>\n",
        "Url: https://github.com/plss12/03MAIR---Algoritmos-de-Optimizacion/blob/main/Trabajo/Seminario_Algoritmos.ipynb<br>\n",
        "\n",
        "Problema:\n",
        ">3. Combinar cifras y operaciones\n",
        "\n",
        "Descripción del problema:\n",
        "\n",
        "El problema consiste en analizar el siguiente problema y diseñar un algoritmo que lo resuelva.\n",
        "\n",
        "Disponemos de las 9 cifras del 1 al 9 (excluimos el cero) y de los 4 signos básicos de las operaciones fundamentales: suma(+), resta(-), multiplicación(*) y división(/).\n",
        "\n",
        "Debemos combinarlos alternativamente sin repetir ninguno de ellos para obtener una cantidad dada. Un ejemplo sería para obtener el 4:\n",
        "4+2-6/3*1 = 4\n",
        "\n",
        "\n",
        "\n",
        "\n",
        "                                        "
      ]
    },
    {
      "cell_type": "code",
      "execution_count": 14,
      "metadata": {
        "id": "AiskKkzZfy4e"
      },
      "outputs": [
        {
          "name": "stdout",
          "output_type": "stream",
          "text": [
            "Números enteros calculados: 147\n",
            "Número entero Máximo: 77.0\n",
            "Número entero Mínimo: -69.0\n",
            "Se pueden obtener todos los números enteros entre -69.0 y 77.0\n"
          ]
        }
      ],
      "source": [
        "from itertools import permutations\n",
        "\n",
        "def numeros_posibles():\n",
        "    numeros = [1, 2, 3, 4, 5, 6, 7, 8, 9]\n",
        "    operadores = ['+', '-', '*', '/']\n",
        "    numeros_expresiones = {}\n",
        "    # Generar todas las permutaciones de 5 números y 4 operadores\n",
        "    permuts_numeros = permutations(numeros, 5)\n",
        "    for numeros_permutados in permuts_numeros:\n",
        "        permuts_operadores = permutations(operadores, 4)\n",
        "        for operadores_permutados in permuts_operadores:\n",
        "            expresion = []\n",
        "            \n",
        "            # Alternar números y operadores\n",
        "            for i in range(4):\n",
        "                expresion.append(str(numeros_permutados[i]))\n",
        "                expresion.append(operadores_permutados[i])\n",
        "            expresion.append(str(numeros_permutados[4]))\n",
        "\n",
        "            # Unir la expresión en una cadena\n",
        "            expresion_str = ''.join(expresion)\n",
        "            # Evaluar la expresión y guardar el resultado\n",
        "            resultado = eval(expresion_str)\n",
        "            # Si el resultado es un número entero y no se ha obtenido antes\n",
        "            if resultado.is_integer() and resultado not in numeros_expresiones.keys():\n",
        "                numeros_expresiones[resultado] = expresion_str\n",
        "                \n",
        "    return numeros_expresiones\n",
        "\n",
        "# Cálculamos la lista completa de números enteros que se pueden obtener con las restricciones del problema\n",
        "numeros = numeros_posibles()\n",
        "\n",
        "print(\"Números enteros calculados:\", len(numeros))\n",
        "\n",
        "# Obetenemos el máximo y el mínimo de la lista, como se nos pide en el problema\n",
        "num_max = max(numeros)\n",
        "num_min = min(numeros)\n",
        "\n",
        "print(\"Número entero Máximo:\", num_max)\n",
        "print(\"Número entero Mínimo:\", num_min)\n",
        "\n",
        "# A partir del máximo, el mínimo y la cantidad de números obtenidos, podemos comprobar si se pueden obtener\n",
        "# todos los números enteros entre el mínimo y el máximo, como se nos pide en el problema\n",
        "if num_max - num_min + 1 == len(numeros):\n",
        "    print(\"Se pueden obtener todos los números enteros entre\", num_min, \"y\", num_max)\n",
        "else:\n",
        "    print(\"No se pueden obtener todos los números enteros entre\", num_min, \"y\", num_max)"
      ]
    },
    {
      "cell_type": "markdown",
      "metadata": {
        "id": "3_-exlrTgLd-"
      },
      "source": [
        "(*)¿Cuantas posibilidades hay sin tener en cuenta las restricciones?<br>\n",
        "\n",
        "\n",
        "\n",
        "¿Cuantas posibilidades hay teniendo en cuenta todas las restricciones.\n",
        "\n",
        "\n"
      ]
    },
    {
      "cell_type": "markdown",
      "metadata": {
        "id": "WfCUqJyKhPcw"
      },
      "source": [
        "Si no tenemos en cuenta las restricciones tenemos que calcular el número total de posibles operaciones, sin tener en cuenta si el resultado de la operación es un número entero o un número racional. Para ello sería el resultado de calcular una variación sin repetición cogiendo 5 valores de los 9 posibles números, el resultado de este cálculo sería:\n",
        "\n",
        "V(9,5) = 9!/(9-5)! = 15120\n",
        "\n",
        "Para el caso de los signos nos encontramos con una permutación sin repetición:\n",
        "\n",
        "P(4) = 4! = 24\n",
        "\n",
        "Para obtener el número total de operaciones debemos multiplicar los dos anteriores resultados, 15120*24 = 362880. Este resultado ha sido calculado a priori y además ha sido calculado con el código de python de abajo.\n",
        "\n",
        "En el caso de el número de posibilidades teniendo en cuenta las restricciones, debemos de contar solo las operaciones que dan como resultado un número entero y debemos de contar solo una operación por número entero, ya que no es necesario guardar dos operaciones que dan como resultado el mismo número entero, ya que el objetivo de este problema es obtener todos los números enteros que es posible encontrar con este tipo de operaciones. Para ello usamos la función que tenemos arriba en la que obtenemos todos los números enteros posibles de calcular con estas restricciones, siendo el resultado 147 operaciones o números."
      ]
    },
    {
      "cell_type": "code",
      "execution_count": 12,
      "metadata": {
        "id": "iq6Fe32MgpDX"
      },
      "outputs": [
        {
          "name": "stdout",
          "output_type": "stream",
          "text": [
            "Número de posibles operaciones sin restricciones: 362880\n"
          ]
        }
      ],
      "source": [
        "def generar_combinaciones():\n",
        "    numeros = [1, 2, 3, 4, 5, 6, 7, 8, 9]\n",
        "    operadores = ['+', '-', '*', '/']\n",
        "    expresiones = []\n",
        "    # Generar todas las permutaciones de 5 números y 4 operadores\n",
        "    permuts_numeros = permutations(numeros, 5)\n",
        "    for numeros_permutados in permuts_numeros:\n",
        "        permuts_operadores = permutations(operadores, 4)\n",
        "        for operadores_permutados in permuts_operadores:\n",
        "            expresion = []\n",
        "            \n",
        "            # Alternar números y operadores\n",
        "            for i in range(4):\n",
        "                expresion.append(str(numeros_permutados[i]))\n",
        "                expresion.append(operadores_permutados[i])\n",
        "            expresion.append(str(numeros_permutados[4]))\n",
        "\n",
        "            # Unir la expresión en una cadena\n",
        "            expresion_str = ''.join(expresion)\n",
        "            expresiones.append(expresion_str)\n",
        "    return expresiones\n",
        "            \n",
        "# Llamar a la función para generar y mostrar las combinaciones\n",
        "combinaciones = generar_combinaciones()\n",
        "\n",
        "print(\"Número de posibles operaciones sin restricciones:\", len(combinaciones))"
      ]
    },
    {
      "cell_type": "markdown",
      "metadata": {
        "id": "dzynfVJahHoY"
      },
      "source": [
        "Modelo para el espacio de soluciones<br>\n",
        "(*) ¿Cual es la estructura de datos que mejor se adapta al problema? Argumentalo.(Es posible que hayas elegido una al principio y veas la necesidad de cambiar, arguentalo)\n"
      ]
    },
    {
      "cell_type": "markdown",
      "metadata": {
        "id": "xFIJrOwKi2Ti"
      },
      "source": [
        "Se ha decidido utilizar una lista para almacenar los números y los operadores para poder ser usados por la función permutations. Para los resultados se ha optado por un diccionario, para almacenar cada número entero obtenido como clave, y acompañando a este número como valor se almacena la operación que da como resultado este número. Este diccionario hace muy sencillo el saber como se ha calculado cada número, ya que se podría almacenar únicamente una lista de números, pero al no tener su operación se perdería parte de la información que podría ser útil para comprobar el correcto funcionamiento del algoritmo."
      ]
    },
    {
      "cell_type": "markdown",
      "metadata": {
        "id": "7Z9U2W7bi-XS"
      },
      "source": [
        "Según el modelo para el espacio de soluciones<br>\n",
        "(*)¿Cual es la función objetivo?\n",
        "\n",
        "(*)¿Es un problema de maximización o minimización?"
      ]
    },
    {
      "cell_type": "markdown",
      "metadata": {
        "id": "hBalWLM7j1_d"
      },
      "source": [
        "Este problema no es un claro problema de optimización, o al menos yo no lo he planteado como tal, por lo que no creo que haya una función objetivo clara. Sin embargo se podría decir que la función objetivo es la maximicación de la cantidad de números enteros únicos obtenidos al evaluar las distintas expresiones obtenidas con las combinaciones. Por ello se podría decir que es un problema de maximicación, ya que buscamos maximizar la cantidad de números enteros calculados."
      ]
    },
    {
      "cell_type": "markdown",
      "metadata": {
        "id": "rlnTYgY1j6I2"
      },
      "source": [
        "Diseña un algoritmo para resolver el problema por fuerza bruta"
      ]
    },
    {
      "cell_type": "markdown",
      "metadata": {
        "id": "70rDgxYXkC8r"
      },
      "source": [
        "En este caso la función que resuelve el problema por fuerza bruta es el código utilizado al principio, lo vuelvo a poner a continuación."
      ]
    },
    {
      "cell_type": "code",
      "execution_count": 40,
      "metadata": {
        "id": "CJb5sQ0qkENy"
      },
      "outputs": [
        {
          "name": "stdout",
          "output_type": "stream",
          "text": [
            "Números enteros calculados: 147\n"
          ]
        }
      ],
      "source": [
        "def numeros_posibles():\n",
        "    numeros = [1, 2, 3, 4, 5, 6, 7, 8, 9]\n",
        "    operadores = ['+', '-', '*', '/']\n",
        "    numeros_expresiones = {}\n",
        "    # Generar todas las permutaciones de 5 números y 4 operadores\n",
        "    permuts_numeros = permutations(numeros, 5)\n",
        "    for numeros_permutados in permuts_numeros:\n",
        "        permuts_operadores = permutations(operadores, 4)\n",
        "        for operadores_permutados in permuts_operadores:\n",
        "            expresion = []\n",
        "            \n",
        "            # Alternar números y operadores\n",
        "            for i in range(4):\n",
        "                expresion.append(str(numeros_permutados[i]))\n",
        "                expresion.append(operadores_permutados[i])\n",
        "            expresion.append(str(numeros_permutados[4]))\n",
        "\n",
        "            # Unir la expresión en una cadena\n",
        "            expresion_str = ''.join(expresion)\n",
        "            # Evaluar la expresión y guardar el resultado\n",
        "            resultado = eval(expresion_str)\n",
        "            # Si el resultado es un número entero y no se ha obtenido antes\n",
        "            if resultado.is_integer() and resultado not in numeros_expresiones.keys():\n",
        "                numeros_expresiones[resultado] = expresion_str\n",
        "                \n",
        "    return numeros_expresiones\n",
        "\n",
        "# Cálculamos la lista completa de números enteros que se pueden obtener con las restricciones del problema\n",
        "numeros = numeros_posibles()\n",
        "\n",
        "print(\"Números enteros calculados:\", len(numeros))\n"
      ]
    },
    {
      "cell_type": "markdown",
      "metadata": {
        "id": "tgrnsC2nkFa8"
      },
      "source": [
        "Calcula la complejidad del algoritmo por fuerza bruta"
      ]
    },
    {
      "cell_type": "markdown",
      "metadata": {
        "id": "9eUd3xwckP68"
      },
      "source": [
        "Este problema cuenta con 3 for anidados y un if para comprobar el resultado. El primer for corresponde las permutaciones de los números y el segundo a las permutaciones de los operadores, por lo que su complejidad es la formula de las permutaciones O(n!/(n-5)!) y O(n!/(n-4)!). El último for es sobre una constante, por lo que tiene una complejidad constante O(1). El if en el que se comprueba si el resultado es integer y si no está en el diccionario lo contaremos como complejidad constante O(1), aunque la comprobación de si el resultado está en el diccionario podría aumentar su complejidad dependiendo del total de registros que se guarden en este diccionario. Multiplicando estas complejidades obtenemos una complejidad de O(n!*m!/((n-5)!*(m-4)!)), siendo n la cantidad de números y m la cantidad de operadores utilizados."
      ]
    },
    {
      "cell_type": "markdown",
      "metadata": {
        "id": "txbrmLmskReM"
      },
      "source": [
        "(*)Diseña un algoritmo que mejore la complejidad del algortimo por fuerza bruta. Argumenta porque crees que mejora el algoritmo por fuerza bruta"
      ]
    },
    {
      "cell_type": "markdown",
      "metadata": {
        "id": "hLrVwt5QkZPD"
      },
      "source": [
        "Respuesta"
      ]
    },
    {
      "cell_type": "code",
      "execution_count": null,
      "metadata": {
        "id": "m1eyM21Vkabg"
      },
      "outputs": [],
      "source": []
    },
    {
      "cell_type": "markdown",
      "metadata": {
        "id": "eGDB4K6uk1iN"
      },
      "source": [
        "(*)Calcula la complejidad del algoritmo"
      ]
    },
    {
      "cell_type": "markdown",
      "metadata": {
        "id": "NhpTh_BPk1ms"
      },
      "source": [
        "Respuesta"
      ]
    },
    {
      "cell_type": "code",
      "execution_count": null,
      "metadata": {
        "id": "nREzhkStlCq8"
      },
      "outputs": [],
      "source": []
    },
    {
      "cell_type": "markdown",
      "metadata": {
        "id": "3M6QjTsSkmYe"
      },
      "source": [
        "Según el problema (y tenga sentido), diseña un juego de datos de entrada aleatorios"
      ]
    },
    {
      "cell_type": "markdown",
      "metadata": {
        "id": "Jc3_OlyNkvjZ"
      },
      "source": [
        "Teniendo en cuenta que se utilizan permutaciones, no se puede utilizar un juego de datos que contengan datos repetidos, en el caso de los números y los operadores. También se debe tener en cuenta que para este problema la cantidad de números debe ser como mínimo mayor en una cantidad que el de operadores, o si no se podría obtener operaciones incorrectas. Por ello, creo que es posible aleatorizar el juego de datos utilizando una cantidad variable de números y operadores como podemos ver en el siguiente código."
      ]
    },
    {
      "cell_type": "code",
      "execution_count": 20,
      "metadata": {},
      "outputs": [],
      "source": [
        "cantidad_numeros = 7\n",
        "cantidad_operadores = 3"
      ]
    },
    {
      "cell_type": "markdown",
      "metadata": {
        "id": "zy5ZROmjlGo1"
      },
      "source": [
        "Aplica el algoritmo al juego de datos generado"
      ]
    },
    {
      "cell_type": "code",
      "execution_count": 134,
      "metadata": {
        "id": "Jkx8GeiYlUz1"
      },
      "outputs": [
        {
          "name": "stdout",
          "output_type": "stream",
          "text": [
            "Números utilizados: [1, 7, 4, 5, 3, 6, 2]\n",
            "Operadores utilizados: ['*', '/', '-']\n",
            "Números enteros calculados: 71\n",
            "Número entero Máximo: 40.0\n",
            "Número entero Mínimo: -40.0\n",
            "No se pueden obtener todos los números enteros entre -40.0 y 40.0\n"
          ]
        }
      ],
      "source": [
        "\n",
        "import random\n",
        "\n",
        "def numeros_posibles(cantidad_numeros, cantidad_operadores):\n",
        "\n",
        "    if cantidad_numeros > 9 or cantidad_numeros<cantidad_operadores:\n",
        "        print(\"Debe haber como máximo 9 números y que la cantidad de números sea mayor que la de operadores\")\n",
        "    numeros = random.sample(range(1, 10), cantidad_numeros)\n",
        "    operadores = random.sample(['+', '-', '*', '/'], k=cantidad_operadores)\n",
        "\n",
        "    numeros_expresiones = {}\n",
        "    # Generar todas las permutaciones de 5 números y 4 operadores\n",
        "    cantidad_numeros_operacion = cantidad_operadores+1\n",
        "\n",
        "    permuts_numeros = permutations(numeros, cantidad_numeros_operacion)\n",
        "    for numeros_permutados in permuts_numeros:\n",
        "        permuts_operadores = permutations(operadores, cantidad_operadores)\n",
        "        for operadores_permutados in permuts_operadores:\n",
        "            expresion = []\n",
        "            \n",
        "            # Alternar números y operadores\n",
        "            for i in range(cantidad_operadores):\n",
        "                expresion.append(str(numeros_permutados[i]))\n",
        "                expresion.append(operadores_permutados[i])\n",
        "            expresion.append(str(numeros_permutados[cantidad_operadores]))\n",
        "\n",
        "            # Unir la expresión en una cadena\n",
        "            expresion_str = ''.join(expresion)\n",
        "            # Evaluar la expresión y guardar el resultado\n",
        "            resultado = eval(expresion_str)\n",
        "            \n",
        "            # Si el resultado es un número entero y no se ha obtenido antes\n",
        "            if float(resultado).is_integer() and resultado not in numeros_expresiones.keys():\n",
        "                numeros_expresiones[resultado] = expresion_str\n",
        "                \n",
        "    return numeros_expresiones, numeros, operadores\n",
        "\n",
        "# Cálculamos la lista completa de números enteros que se pueden obtener con las restricciones del problema\n",
        "numeros, lista_numeros, lista_operadores = numeros_posibles(cantidad_numeros, cantidad_operadores)\n",
        "\n",
        "print(\"Números utilizados:\", lista_numeros)\n",
        "print(\"Operadores utilizados:\", lista_operadores)\n",
        "print(\"Números enteros calculados:\", len(numeros))\n",
        "\n",
        "# Obetenemos el máximo y el mínimo de la lista, como se nos pide en el problema\n",
        "num_max = max(numeros)\n",
        "num_min = min(numeros)\n",
        "\n",
        "print(\"Número entero Máximo:\", num_max)\n",
        "print(\"Número entero Mínimo:\", num_min)\n",
        "\n",
        "# A partir del máximo, el mínimo y la cantidad de números obtenidos, podemos comprobar si se pueden obtener\n",
        "# todos los números enteros entre el mínimo y el máximo, como se nos pide en el problema\n",
        "if num_max - num_min + 1 == len(numeros):\n",
        "    print(\"Se pueden obtener todos los números enteros entre\", num_min, \"y\", num_max)\n",
        "else:\n",
        "    print(\"No se pueden obtener todos los números enteros entre\", num_min, \"y\", num_max)\n"
      ]
    },
    {
      "cell_type": "markdown",
      "metadata": {
        "id": "eTFWUJQrtGcv"
      },
      "source": [
        "Enumera las referencias que has utilizado(si ha sido necesario) para llevar a cabo el trabajo"
      ]
    },
    {
      "cell_type": "markdown",
      "metadata": {
        "id": "YKQ_mRBttWsP"
      },
      "source": [
        "Mayoritariamente he utilizado los apuntes obtenidos en la asignatura de Matemáticas para la Inteligencia Artificial para el temario de combinatoria, para poder realizar los cálculos a priori de la cantidad de combinaciones y corroborar luego que los datos obtenidos por el código de Python eran correctos."
      ]
    },
    {
      "cell_type": "markdown",
      "metadata": {
        "id": "kAkDPUyRtYyH"
      },
      "source": [
        "Describe brevemente las lineas de como crees que es posible avanzar en el estudio del problema. Ten en cuenta incluso posibles variaciones del problema y/o variaciones al alza del tamaño"
      ]
    },
    {
      "cell_type": "markdown",
      "metadata": {
        "id": "IE0uZmo-tZu-"
      },
      "source": [
        "La complejidad del problema es bastante alta, se me ocurren varias formas posibles de avanzar en el estudio del problema, las cúales llevarían bastante estudio. Como por ejemplo, el uso de poda para evitar evaluar ciertas ramas que a priori no serán buenos resultados teniendo en cuenta posibles operaciones que den resultados invalidos, como divisiones entre 0 o resultados decimales. También es cierto que el problema es algo ambiguo, no se aclara si se pide solo el máximo y el mínimo número entero calculado o se requiere la completitud de los números calculado, pero si es verdad que dependiendo de la variante se podría utilizar una heurística para, por ejemplo, ordenar los números y los operadores para obtener directamente los valores menores o mayores sin la necesidad de calcular todos ellos."
      ]
    }
  ],
  "metadata": {
    "colab": {
      "provenance": []
    },
    "kernelspec": {
      "display_name": "Python 3",
      "name": "python3"
    },
    "language_info": {
      "codemirror_mode": {
        "name": "ipython",
        "version": 3
      },
      "file_extension": ".py",
      "mimetype": "text/x-python",
      "name": "python",
      "nbconvert_exporter": "python",
      "pygments_lexer": "ipython3",
      "version": "3.11.6"
    }
  },
  "nbformat": 4,
  "nbformat_minor": 0
}
