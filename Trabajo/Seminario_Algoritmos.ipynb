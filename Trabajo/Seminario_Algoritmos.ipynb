{
  "cells": [
    {
      "cell_type": "markdown",
      "metadata": {
        "id": "hVbXYX-RfPWh"
      },
      "source": [
        "# Algoritmos de optimización - Seminario<br>\n",
        "Nombre y Apellidos:  Pedro Luis Soto Santos <br>\n",
        "Url: https://github.com/plss12/03MAIR---Algoritmos-de-Optimizacion/blob/main/Trabajo/Seminario_Algoritmos.ipynb<br>\n",
        "\n",
        "Problema:\n",
        ">3. Combinar cifras y operaciones\n",
        "\n",
        "Descripción del problema:\n",
        "\n",
        "El problema consiste en analizar el siguiente problema y diseñar un algoritmo que lo resuelva.\n",
        "\n",
        "Disponemos de las 9 cifras del 1 al 9 (excluimos el cero) y de los 4 signos básicos de las operaciones fundamentales: suma(+), resta(-), multiplicación(*) y división(/).\n",
        "\n",
        "Debemos combinarlos alternativamente sin repetir ninguno de ellos para obtener una cantidad dada. Un ejemplo sería para obtener el 4:\n",
        "4+2-6/3*1 = 4\n",
        "\n",
        "Debe analizarse el problema para encontrar todos los valores enteros posibles planteando las siguientes cuestiones:\n",
        "- ¿Qué valor máximo y mínimo se pueden obtener según las condiciones del problema?\n",
        "- ¿Es posible encontrar t odos los valores enteros posibles entre dicho mínimo y máximo ?\n",
        "\n",
        "                                        "
      ]
    },
    {
      "cell_type": "code",
      "execution_count": 39,
      "metadata": {
        "id": "AiskKkzZfy4e"
      },
      "outputs": [
        {
          "name": "stdout",
          "output_type": "stream",
          "text": [
            "Números enteros calculados: 147\n",
            "Número entero Máximo: 77.0\n",
            "Número entero Mínimo: -69.0\n",
            "Se pueden obtener todos los números enteros entre -69.0 y 77.0\n"
          ]
        }
      ],
      "source": [
        "# Para las preguntas que se plantean sobre el valor máximo y mínimo calculable con estas condiciones \n",
        "# del problema y, dados este máximo y este mínimo, saber si podemos calcular todos los valores enteros \n",
        "# entre ellos, he diseñado el siguiente código:\n",
        "\n",
        "from itertools import permutations\n",
        "\n",
        "def numeros_posibles():\n",
        "\n",
        "    numeros = [1, 2, 3, 4, 5, 6, 7, 8, 9]\n",
        "    operadores = ['+', '-', '*', '/']\n",
        "    numeros_expresiones = {}\n",
        "\n",
        "    # Generamos todas las permutaciones de 5 números y 4 operadores\n",
        "    permuts_numeros = permutations(numeros, 5)\n",
        "    for numeros_permutados in permuts_numeros:\n",
        "        permuts_operadores = permutations(operadores)\n",
        "        for operadores_permutados in permuts_operadores:\n",
        "            expresion = []\n",
        "            \n",
        "            # Unimos los números y los operadores en una lista y formateamos a String\n",
        "            for i in range(4):\n",
        "                expresion.append(str(numeros_permutados[i]))\n",
        "                expresion.append(operadores_permutados[i])\n",
        "            expresion.append(str(numeros_permutados[4]))\n",
        "            expresion_str = ''.join(expresion)\n",
        "\n",
        "            # Evaluamos la expresión y guardamos el resultado si es un entero y no se ha obtenido antes\n",
        "            resultado = eval(expresion_str)\n",
        "            if resultado.is_integer() and resultado not in numeros_expresiones.keys():\n",
        "                numeros_expresiones[resultado] = expresion_str\n",
        "                \n",
        "    return numeros_expresiones\n",
        "\n",
        "# Cálculamos la lista completa de números enteros que se pueden obtener con las restricciones del problema\n",
        "numeros = numeros_posibles()\n",
        "\n",
        "print(f\"Números enteros calculados: {len(numeros)}\" )\n",
        "\n",
        "# Obetenemos el máximo y el mínimo de la lista, como se nos pide en el problema\n",
        "num_max = max(numeros)\n",
        "num_min = min(numeros)\n",
        "\n",
        "print(f\"Número entero Máximo: {num_max}\")\n",
        "print(f\"Número entero Mínimo: {num_min}\")\n",
        "\n",
        "# A partir del máximo, el mínimo y la cantidad de números obtenidos, podemos comprobar si se pueden obtener\n",
        "# todos los números enteros entre el mínimo y el máximo, como se nos pide en el problema\n",
        "if num_max - num_min + 1 == len(numeros):\n",
        "    print(f\"Se pueden obtener todos los números enteros entre {num_min} y {num_max}\")\n",
        "else:\n",
        "    print(f\"No se pueden obtener todos los números enteros entre {num_min} y {num_max}\")"
      ]
    },
    {
      "cell_type": "markdown",
      "metadata": {
        "id": "3_-exlrTgLd-"
      },
      "source": [
        "(*)¿Cuantas posibilidades hay sin tener en cuenta las restricciones?<br>\n",
        "\n",
        "\n",
        "\n",
        "¿Cuantas posibilidades hay teniendo en cuenta todas las restricciones.\n",
        "\n",
        "\n"
      ]
    },
    {
      "cell_type": "markdown",
      "metadata": {
        "id": "WfCUqJyKhPcw"
      },
      "source": [
        "RESPUESTA:\n",
        "\n",
        "El problema dice que se deben combinar los números y los operadores sin repetir ninguno de ellos. Esta restricción provoca que al haber tan solo 4 operadores tengamos una operación limitada a 5 números. Por lo que, si no tenemos en cuenta la restricción de no repetición de números ni operadores, tenemos infintas posibilidades a la hora de formar operaciones.\n",
        "\n",
        "Sin embargo, teniendo en cuenta las restricciones podemos calcular el número total de posibles operaciones, sabiendo que habrá 5 números y 4 operadores. En otras palabras, sería el resultado de calcular una variación sin repetición cogiendo 5 valores de los 9 posibles números multiplicado por una permutación sin repetición para el caso de los 4 operadores:\n",
        "\n",
        "$$V(9,5) = \\frac{9!}{(9-5)!} = 15120$$\n",
        "\n",
        "$$P(4) = 4! = 24$$\n",
        "\n",
        "$$Total = 15120 \\cdot 24 = 362880$$\n",
        "\n",
        "Este resultado ha sido calculado a priori y además ha sido calculado con el código de python de abajo, que es una modificación del código anterior, en el que solo tenemos en cuenta las expresiones generadas."
      ]
    },
    {
      "cell_type": "code",
      "execution_count": 40,
      "metadata": {
        "id": "iq6Fe32MgpDX"
      },
      "outputs": [
        {
          "name": "stdout",
          "output_type": "stream",
          "text": [
            "Número de posibles operaciones con restricciones: 362880\n"
          ]
        }
      ],
      "source": [
        "def operaciones_posibles():\n",
        "\n",
        "    numeros = [1, 2, 3, 4, 5, 6, 7, 8, 9]\n",
        "    operadores = ['+', '-', '*', '/']\n",
        "    expresiones = []\n",
        "\n",
        "    # Generamos todas las permutaciones de 5 números y 4 operadores\n",
        "    permuts_numeros = permutations(numeros, 5)\n",
        "    for numeros_permutados in permuts_numeros:\n",
        "        permuts_operadores = permutations(operadores)\n",
        "        for operadores_permutados in permuts_operadores:\n",
        "            expresion = []\n",
        "            \n",
        "            # Unimos los números y los operadores en una lista y formateamos a String\n",
        "            for i in range(4):\n",
        "                expresion.append(str(numeros_permutados[i]))\n",
        "                expresion.append(operadores_permutados[i])\n",
        "            expresion.append(str(numeros_permutados[4]))\n",
        "            expresion_str = ''.join(expresion)\n",
        "            expresiones.append(expresion_str)\n",
        "                \n",
        "    return expresiones\n",
        "\n",
        "operaciones = operaciones_posibles()\n",
        "print(f\"Número de posibles operaciones con restricciones: {len(operaciones)}\")"
      ]
    },
    {
      "cell_type": "markdown",
      "metadata": {
        "id": "dzynfVJahHoY"
      },
      "source": [
        "Modelo para el espacio de soluciones<br>\n",
        "(*) ¿Cual es la estructura de datos que mejor se adapta al problema? Argumentalo.(Es posible que hayas elegido una al principio y veas la necesidad de cambiar, arguentalo)\n"
      ]
    },
    {
      "cell_type": "markdown",
      "metadata": {
        "id": "xFIJrOwKi2Ti"
      },
      "source": [
        "RESPUESTA:\n",
        "\n",
        "Se ha decidido utilizar una lista para almacenar los números y los operadores para poder ser usados por la función permutations, de la biblioteca itertools. \n",
        "\n",
        "Para el resultado simplemente se devuelve la operación, que da como resultado el valor objetivo, como un string y en el caso de que no exista dicha operación se devuelve un string vacío."
      ]
    },
    {
      "cell_type": "markdown",
      "metadata": {
        "id": "7Z9U2W7bi-XS"
      },
      "source": [
        "Según el modelo para el espacio de soluciones<br>\n",
        "(*)¿Cual es la función objetivo?\n",
        "\n",
        "(*)¿Es un problema de maximización o minimización?"
      ]
    },
    {
      "cell_type": "markdown",
      "metadata": {
        "id": "hBalWLM7j1_d"
      },
      "source": [
        "RESPUESTA:\n",
        "\n",
        "Este problema no es un claro problema de optimización, o al menos yo no lo he planteado como tal, por lo que no creo que haya una función objetivo clara, ya que lo que se está buscando en este problema es una operación que de como resultado un valor dado como objetivo. \n",
        "\n",
        "Sin embargo, se podría decir que una función objetivo sería encontrar la operación que da como resultado este valor objetivo en el menor número de iteraciones posibles, siendo en este caso un problema de minimización."
      ]
    },
    {
      "cell_type": "markdown",
      "metadata": {
        "id": "rlnTYgY1j6I2"
      },
      "source": [
        "Diseña un algoritmo para resolver el problema por fuerza bruta"
      ]
    },
    {
      "cell_type": "markdown",
      "metadata": {
        "id": "70rDgxYXkC8r"
      },
      "source": [
        "RESPUESTA:\n",
        "\n",
        "En este caso la función que resuelve el problema por fuerza bruta es el código de la función mostrada al principio, con la modificación de que se le pasa el valor objetivo que se está buscando, y si se encuentra una operación que da como resultado este valor directamente se devuelve. Además, he añadido un contador de iteraciones, para más adelante hacer comparaciones con el algoritmo más eficiente."
      ]
    },
    {
      "cell_type": "code",
      "execution_count": 41,
      "metadata": {
        "id": "CJb5sQ0qkENy"
      },
      "outputs": [
        {
          "name": "stdout",
          "output_type": "stream",
          "text": [
            "Realizadas 3483 iteraciones para obtener el número 12\n",
            "Expresión para obtener el número 12: 1+2*7-9/3\n",
            "\n",
            "Realizadas 362880 iteraciones para obtener el número 200\n",
            "Dadas las restricciones del problema, no existe una expresión para obtener el número 200\n",
            "\n"
          ]
        }
      ],
      "source": [
        "def obtener_expresion(numero):\n",
        "\n",
        "    numeros = [1, 2, 3, 4, 5, 6, 7, 8, 9]\n",
        "    operadores = ['+', '-', '*', '/']\n",
        "\n",
        "    iteraciones = 0\n",
        "\n",
        "    # Generamos todas las permutaciones de 5 números y 4 operadores\n",
        "    permuts_numeros = permutations(numeros, 5)\n",
        "    for numeros_permutados in permuts_numeros:\n",
        "        permuts_operadores = permutations(operadores)\n",
        "        for operadores_permutados in permuts_operadores:\n",
        "            expresion = []\n",
        "            \n",
        "            # Unimos los números y los operadores en una lista y formateamos a String\n",
        "            for i in range(4):\n",
        "                expresion.append(str(numeros_permutados[i]))\n",
        "                expresion.append(operadores_permutados[i])\n",
        "            expresion.append(str(numeros_permutados[4]))\n",
        "            expresion_str = ''.join(expresion)\n",
        "            \n",
        "            iteraciones += 1\n",
        "\n",
        "            # Evaluamos la expresión y guardamos el resultado si es un entero y no se ha obtenido antes\n",
        "            resultado = eval(expresion_str)\n",
        "            if resultado == numero:\n",
        "                return expresion_str, iteraciones\n",
        "            \n",
        "    return \"\", iteraciones\n",
        "\n",
        "#Función para no repetir código a la hora de imprimir el resultado\n",
        "def imprimir_resultado(operacion, iteraciones, numero_objetivo):\n",
        "    print(f\"Realizadas {iteraciones} iteraciones para obtener el número {numero_objetivo}\")\n",
        "    if operacion != \"\":\n",
        "        print(f\"Expresión para obtener el número {numero_objetivo}: {operacion}\\n\")\n",
        "    else:\n",
        "        print(f\"Dadas las restricciones del problema, no existe una expresión para obtener el número {numero_objetivo}\\n\")\n",
        "\n",
        "# Ponemos un ejemplo en el que sí se puede obtener el número objetivo y otro en el que no\n",
        "numero_objetivo = 12\n",
        "expresion, iteraciones = obtener_expresion(numero_objetivo)\n",
        "imprimir_resultado(expresion, iteraciones, numero_objetivo)\n",
        "\n",
        "numero_objetivo = 200\n",
        "expresion, iteraciones = obtener_expresion(numero_objetivo)\n",
        "imprimir_resultado(expresion, iteraciones, numero_objetivo)"
      ]
    },
    {
      "cell_type": "markdown",
      "metadata": {
        "id": "tgrnsC2nkFa8"
      },
      "source": [
        "Calcula la complejidad del algoritmo por fuerza bruta"
      ]
    },
    {
      "cell_type": "markdown",
      "metadata": {
        "id": "9eUd3xwckP68"
      },
      "source": [
        "RESPUESTA:\n",
        "\n",
        "Este algoritmo por fuerza bruta evalua todas las combinaciones de operadores y números hasta encontrar la operación que como resultado da el número objetivo. En otras palabras, el algoritmo cuenta con dos for anidados, uno recorre todas las variaciones de 5 números y el otro recorre todas las permutaciones de los operadores. Además, hay un pequeño for final que monta la expresión, pero este al ser un for constante su complejidad también es constante.\n",
        "\n",
        "Usando las formulas de permutación y variación vistas anteriormente:\n",
        "\n",
        "$$primerfor = O(\\frac{n!}{(n-5)!})$$\n",
        "\n",
        "$$segundofor = O(m!)$$\n",
        "\n",
        "$$tercerfor = O(1)$$\n",
        "\n",
        "$$complejidad = O(\\frac{n!}{(n-5)!}) \\cdot O(m!)$$\n"
      ]
    },
    {
      "cell_type": "markdown",
      "metadata": {
        "id": "txbrmLmskReM"
      },
      "source": [
        "(*)Diseña un algoritmo que mejore la complejidad del algortimo por fuerza bruta. Argumenta porque crees que mejora el algoritmo por fuerza bruta"
      ]
    },
    {
      "cell_type": "markdown",
      "metadata": {
        "id": "hLrVwt5QkZPD"
      },
      "source": [
        "RESPUESTA:\n",
        "\n",
        "Para mejorar la complejidad del algoritmo por fuerza bruta he optado por un algoritmo de backtracking con llamadas recursivas, que irá construyendo paso a paso las operaciones, evitando tener que crear y recorrer todas las posibles operaciones con las permutaciones de los números y los operadores. Además, he decidido ir evaluando las expresión conforme se iba montando para descartar las ramas en las que se obtenía como resultado parcial un número decimal, ya que es muy poco probable que a partir de un número decimal se obtenga como resultado final un número entero."
      ]
    },
    {
      "cell_type": "code",
      "execution_count": 42,
      "metadata": {
        "id": "m1eyM21Vkabg"
      },
      "outputs": [
        {
          "name": "stdout",
          "output_type": "stream",
          "text": [
            "Realizadas 106 iteraciones para obtener el número 12\n",
            "Expresión para obtener el número 12: 1+2*7-9/3\n",
            "\n",
            "Realizadas 38083 iteraciones para obtener el número 200\n",
            "Dadas las restricciones del problema, no existe una expresión para obtener el número 200\n",
            "\n"
          ]
        }
      ],
      "source": [
        "def obtener_expresion_backtrack(objetivo):\n",
        "    numeros = [1, 2, 3, 4, 5, 6, 7, 8, 9]\n",
        "    operadores = ['+', '-', '*', '/']\n",
        "\n",
        "    def backtrack(expresion=\"\", index=0, iter_count=0):\n",
        "        iter_count += 1  # Incrementar el contador de iteraciones\n",
        "\n",
        "        # Prueba con cada número y operador no utilizado\n",
        "        for num in numeros:\n",
        "            if str(num) not in expresion:\n",
        "\n",
        "                nueva_expresion = expresion + str(num)\n",
        "                resultado_parcial = eval(nueva_expresion)\n",
        "\n",
        "                # Si ya tenemos 4 números, quiere decir que tenemos todos los operadores,\n",
        "                # por lo que el resultado parcial realmente es el resultado final\n",
        "                if index == 4:\n",
        "                    if resultado_parcial == objetivo:\n",
        "                        return nueva_expresion, iter_count\n",
        "                    else:\n",
        "                        continue\n",
        "                \n",
        "                # Si el resultado parcial no es un entero no seguimos con esta rama, ya que\n",
        "                # va a ser muy poco probable que el resultado final sea un entero\n",
        "                elif(resultado_parcial % 1 != 0):\n",
        "                    continue\n",
        "                # Si no es ninguno de los casos anteriores seguimos con el siguiente operador\n",
        "                else:\n",
        "                    for operador in operadores:\n",
        "                        if operador not in nueva_expresion:\n",
        "                            result, iter_count = backtrack(nueva_expresion + operador, index + 1, iter_count)\n",
        "                            if result:\n",
        "                                return result, iter_count\n",
        "\n",
        "        return \"\", iter_count\n",
        "\n",
        "    return backtrack()\n",
        "\n",
        "# Al igual que con el algoritmo de fuerza bruta, ponemos un ejemplo en el que \n",
        "# sí se puede obtener el número objetivo y otro en el que no\n",
        "numero_objetivo = 12\n",
        "expresion, iteraciones = obtener_expresion_backtrack(numero_objetivo)\n",
        "imprimir_resultado(expresion, iteraciones, numero_objetivo)\n",
        "\n",
        "numero_objetivo = 200\n",
        "expresion, iteraciones = obtener_expresion_backtrack(numero_objetivo)\n",
        "imprimir_resultado(expresion, iteraciones, numero_objetivo)\n"
      ]
    },
    {
      "cell_type": "code",
      "execution_count": 43,
      "metadata": {},
      "outputs": [
        {
          "name": "stdout",
          "output_type": "stream",
          "text": [
            "Se han encontrado todas las soluciones posibles\n"
          ]
        }
      ],
      "source": [
        "# Comprobamos que con este nuevo algoritmo también podemos\n",
        "# obtener todas las soluciones dentro del rango de números posibles\n",
        "soluciones = []\n",
        "for numero in range(-69,78):\n",
        "    solucion, iteraciones = obtener_expresion_backtrack(numero)\n",
        "    if solucion != \"\":\n",
        "        soluciones.append(numero)\n",
        "    else: \n",
        "        print(f\"No se ha encontrado solución para el número {numero}\")\n",
        "\n",
        "print(f\"Se han encontrado todas las soluciones posibles\")\n"
      ]
    },
    {
      "cell_type": "code",
      "execution_count": 44,
      "metadata": {},
      "outputs": [
        {
          "name": "stdout",
          "output_type": "stream",
          "text": [
            "Número objetivo: -29\n",
            "Realizadas 14073 iteraciones por el algoritmo de fuerza bruta\n",
            "Realizadas 575 iteraciones por el algoritmo de backtracking\n",
            "\n",
            "Número objetivo: 55\n",
            "Realizadas 10523 iteraciones por el algoritmo de fuerza bruta\n",
            "Realizadas 800 iteraciones por el algoritmo de backtracking\n",
            "\n",
            "Número objetivo: -69\n",
            "Realizadas 10661 iteraciones por el algoritmo de fuerza bruta\n",
            "Realizadas 391 iteraciones por el algoritmo de backtracking\n",
            "\n",
            "Número objetivo: -57\n",
            "Realizadas 41515 iteraciones por el algoritmo de fuerza bruta\n",
            "Realizadas 3641 iteraciones por el algoritmo de backtracking\n",
            "\n",
            "Número objetivo: 58\n",
            "Realizadas 84236 iteraciones por el algoritmo de fuerza bruta\n",
            "Realizadas 8166 iteraciones por el algoritmo de backtracking\n",
            "\n"
          ]
        }
      ],
      "source": [
        "# Vamos a crear 5 números aleatorios calculables con las restricciones del problema para comparar\n",
        "# el rendimiento de ambas implementaciones\n",
        "import random\n",
        "\n",
        "numeros_aleatorios = [random.randint(-69,77) for _ in range(5)]\n",
        "\n",
        "for numero in numeros_aleatorios:\n",
        "    print(f\"Número objetivo: {numero}\")\n",
        "    expresion, iteraciones = obtener_expresion(numero)\n",
        "    print(f\"Realizadas {iteraciones} iteraciones por el algoritmo de fuerza bruta\")\n",
        "    expresion, iteraciones = obtener_expresion_backtrack(numero)\n",
        "    print(f\"Realizadas {iteraciones} iteraciones por el algoritmo de backtracking\\n\")"
      ]
    },
    {
      "cell_type": "markdown",
      "metadata": {},
      "source": [
        "Tanto en esta última comparación, como en el ejemplo de uso del algoritmo, se puede ver la mejora de eficiencia de este, ya que necesita bastantes menos iteraciones para llegar al resultado objetivo. Además, en el peor de los casos, donde se le de como valor objetivo un número que no puede ser calculado con estas restricciones del problema, el algoritmo de backtracking realiza un total de 38083 iteraciones, casi 10 veces menos que las 362880 iteraciones que realiza el algoritmo por fuerza bruta."
      ]
    },
    {
      "cell_type": "markdown",
      "metadata": {
        "id": "eGDB4K6uk1iN"
      },
      "source": [
        "(*)Calcula la complejidad del algoritmo"
      ]
    },
    {
      "cell_type": "markdown",
      "metadata": {
        "id": "NhpTh_BPk1ms"
      },
      "source": [
        "RESPUESTA:\n",
        "\n",
        "La complejidad del nuevo algoritmo se ve reducida al ir construyendo paso a paso la operación y no tener que crear y recorrer todas las permutaciones. Además, la poda de las ramas que dan números decimales como resultados parciales nos evitan evaluar ciertas operaciones poco prometedoras, elevando aún más la eficiencia del algoritmo de backtracking. Sin embargo, al tener dos for, uno que recorre los números y otro que recorre los operadores, podría parecer que la complejidad es $$O(n \\cdot m)$$ pero esto no es así, ya que dentro del for que recorre los operadores se hace una llamada recursiva a si misma, por lo que es complicado determinar cúal es la complejidad exacta del problema."
      ]
    },
    {
      "cell_type": "markdown",
      "metadata": {
        "id": "3M6QjTsSkmYe"
      },
      "source": [
        "Según el problema (y tenga sentido), diseña un juego de datos de entrada aleatorios"
      ]
    },
    {
      "cell_type": "code",
      "execution_count": 51,
      "metadata": {},
      "outputs": [],
      "source": [
        "# Creamos una lista de 5 números enteros aleatorios, pero acotamos el rango para que haya\n",
        "# posibilidad de obtener números enteros que se puedan obtener con las restricciones del problema\n",
        "\n",
        "numeros_aleatorios = [random.randint(-100, 100) for _ in range(5)]"
      ]
    },
    {
      "cell_type": "markdown",
      "metadata": {
        "id": "zy5ZROmjlGo1"
      },
      "source": [
        "Aplica el algoritmo al juego de datos generado"
      ]
    },
    {
      "cell_type": "code",
      "execution_count": 52,
      "metadata": {
        "id": "Jkx8GeiYlUz1"
      },
      "outputs": [
        {
          "name": "stdout",
          "output_type": "stream",
          "text": [
            "Realizadas 956 iteraciones para obtener el número -49\n",
            "Expresión para obtener el número -49: 1+8/2-6*9\n",
            "\n",
            "Realizadas 38083 iteraciones para obtener el número -91\n",
            "Dadas las restricciones del problema, no existe una expresión para obtener el número -91\n",
            "\n",
            "Realizadas 104 iteraciones para obtener el número 13\n",
            "Expresión para obtener el número 13: 1+2*7-6/3\n",
            "\n",
            "Realizadas 389 iteraciones para obtener el número -51\n",
            "Expresión para obtener el número -51: 1+4/2-6*9\n",
            "\n",
            "Realizadas 667 iteraciones para obtener el número -68\n",
            "Expresión para obtener el número -68: 1+6/2-8*9\n",
            "\n"
          ]
        }
      ],
      "source": [
        "for numero in numeros_aleatorios:\n",
        "    expresion, iteraciones = obtener_expresion_backtrack(numero)\n",
        "    imprimir_resultado(expresion, iteraciones, numero)"
      ]
    },
    {
      "cell_type": "markdown",
      "metadata": {
        "id": "eTFWUJQrtGcv"
      },
      "source": [
        "Enumera las referencias que has utilizado(si ha sido necesario) para llevar a cabo el trabajo"
      ]
    },
    {
      "cell_type": "markdown",
      "metadata": {
        "id": "YKQ_mRBttWsP"
      },
      "source": [
        "RESPUESTA:\n",
        "\n",
        "Mayoritariamente he utilizado los apuntes obtenidos en la asignatura de Matemáticas para la Inteligencia Artificial para el temario de combinatoria, para poder realizar los cálculos a priori de la cantidad de combinaciones y corroborar luego que los datos obtenidos por el código de Python eran correctos."
      ]
    },
    {
      "cell_type": "markdown",
      "metadata": {
        "id": "kAkDPUyRtYyH"
      },
      "source": [
        "Describe brevemente las lineas de como crees que es posible avanzar en el estudio del problema. Ten en cuenta incluso posibles variaciones del problema y/o variaciones al alza del tamaño"
      ]
    },
    {
      "cell_type": "markdown",
      "metadata": {
        "id": "IE0uZmo-tZu-"
      },
      "source": [
        "RESPUESTA:\n",
        "\n",
        "Una posible forma de avanzar en el estudio del problema es ahondar más en posibles reglas para realizar la poda para poder utilizar alternativas a la que he utilizado yo, o incluso utilizar varias a la vez. En base a este tipo de reglas también se me ocurre implementar alguna heurística más enfocada decidir que nodos visitar y explorar primero las soluciones más prometedoras. Todas estas posibles soluciones comentadas conllevan un estudio minucioso y profundo de las características y restricciones del problema, para poder crear reglas que ayuden a mejorar el algoritmo y no interfieran negativamente en este."
      ]
    }
  ],
  "metadata": {
    "colab": {
      "provenance": []
    },
    "kernelspec": {
      "display_name": "Python 3",
      "name": "python3"
    },
    "language_info": {
      "codemirror_mode": {
        "name": "ipython",
        "version": 3
      },
      "file_extension": ".py",
      "mimetype": "text/x-python",
      "name": "python",
      "nbconvert_exporter": "python",
      "pygments_lexer": "ipython3",
      "version": "3.11.6"
    }
  },
  "nbformat": 4,
  "nbformat_minor": 0
}
